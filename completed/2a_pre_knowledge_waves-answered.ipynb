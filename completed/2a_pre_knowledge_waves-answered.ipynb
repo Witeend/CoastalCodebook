{
 "cells": [
  {
   "cell_type": "markdown",
   "id": "08b7ff1c-1e3c-4917-bc39-d046ecfa68eb",
   "metadata": {},
   "source": [
    "<figure>\n",
    "  <IMG SRC=\"https://raw.githubusercontent.com/mbakker7/exploratory_computing_with_python/master/tudelft_logo.png\" WIDTH=250 ALIGN=\"right\">\n",
    "</figure>"
   ]
  },
  {
   "cell_type": "markdown",
   "id": "8159e3e5-b4b7-497e-abe5-504593869f85",
   "metadata": {},
   "source": [
    "## This is the answered version"
   ]
  },
  {
   "cell_type": "markdown",
   "id": "562c17ce-311a-46be-acdf-e360ce7dd3ee",
   "metadata": {},
   "source": [
    "# Week 2a: Pre-knowledge waves"
   ]
  },
  {
   "cell_type": "code",
   "execution_count": null,
   "id": "593e05c2-cc9c-4c0d-a9bb-bf0fee870c29",
   "metadata": {},
   "outputs": [],
   "source": [
    "%run initialize/init_2a.ipynb"
   ]
  },
  {
   "cell_type": "markdown",
   "id": "adc11ad6-a933-4eb2-ae1e-c3ccc9282a81",
   "metadata": {},
   "source": [
    "This optional section focuses on the material studied in Waves that is related to the dispersion relationship.  A brief summary is given in Sections 3.2-2.6 of the Coastal Dynamics textbook. This notebook can be used to test whether you master the dispersion relationship sufficiently. We will discuss how the wavelength can be calculated through an iterative approach, by tables, and by an explicit formula and then ask you to calculate various wave parameters."
   ]
  },
  {
   "cell_type": "markdown",
   "id": "31bed71d-9b3b-4fa5-af1b-c10b831b92b4",
   "metadata": {},
   "source": [
    "## 1) Dispersion relation"
   ]
  },
  {
   "cell_type": "markdown",
   "id": "34b967c8-fb0d-4456-a1b8-96fc5b785c73",
   "metadata": {},
   "source": [
    "In the questions below will guide you through te different ways the wavelength can be computed through the dispersion relationship. You can fillin and check the answers individually by pressing the check buttons. The correct answer will be given after 3 attempts. You can then redo the question with different numbers by running the cell again."
   ]
  },
  {
   "cell_type": "markdown",
   "id": "2a114d05-5f24-4e67-9d96-db68b161b910",
   "metadata": {},
   "source": [
    "### 1.1) Iterative approach"
   ]
  },
  {
   "cell_type": "code",
   "execution_count": null,
   "id": "97b3d1ef-453f-4d14-8d9b-04f946859ff0",
   "metadata": {},
   "outputs": [],
   "source": [
    "W2_Q1()"
   ]
  },
  {
   "cell_type": "code",
   "execution_count": null,
   "id": "949fa014-71b0-4bab-a725-f4a9928c7a43",
   "metadata": {},
   "outputs": [],
   "source": [
    "# You can use this cell to answer the question\n",
    "\n",
    "# set conditions\n",
    "T1 = 7.2 # wave period [s]\n",
    "h1 = h = 2.8 # water depth [m]\n",
    "\n",
    "L0 = 9.81 * T1**2 / (2 * np.pi)\n",
    "print('answer a:', round(L0,1), 'm')\n",
    "\n",
    "L = L0\n",
    "L = 9.81 * T1**2 / (2 * np.pi) * np.tanh(2 * np.pi * h1 / L)\n",
    "\n",
    "print('answer b:', round(L,1), 'm')\n",
    "\n",
    "def wave_length_Q1(T, h):\n",
    "    L = 9.81 * T**2 / (2 * np.pi)\n",
    "    L_all = [L]\n",
    "\n",
    "    for i in range(1500):\n",
    "        L = 9.81 * T**2 / (2 * np.pi) * np.tanh(2 * np.pi * h / L)\n",
    "        L_all.append(L)\n",
    "\n",
    "        if np.abs(L_all[-1] - L_all[-2]) < 0.0005:\n",
    "            #plt.plot(L_all)\n",
    "            break\n",
    "            \n",
    "    return round(L, 13)\n",
    "\n",
    "L= round(wave_length_Q1(T1, h1), 1)\n",
    "print('answer c:', round(L,1), 'm')"
   ]
  },
  {
   "cell_type": "markdown",
   "id": "571d9f63-5282-4b09-945b-b15a1b9e7f41",
   "metadata": {},
   "source": [
    "### 1.2) Wavelength through table"
   ]
  },
  {
   "cell_type": "code",
   "execution_count": null,
   "id": "9d501454-fe56-4519-a24f-c67031a4218c",
   "metadata": {},
   "outputs": [],
   "source": [
    "W2_Q2()"
   ]
  },
  {
   "cell_type": "code",
   "execution_count": null,
   "id": "6a6ed4f5-73a2-4608-9a0b-78604e6bb825",
   "metadata": {},
   "outputs": [],
   "source": [
    "# You can use this cell to answer the question\n",
    "\n",
    "# Linear interpolating with values of the table, see init_2a.ipynb."
   ]
  },
  {
   "cell_type": "markdown",
   "id": "0be84b2b-bce7-49f1-9886-9319d134191b",
   "metadata": {},
   "source": [
    "### 1.3) Explicit formula"
   ]
  },
  {
   "cell_type": "code",
   "execution_count": null,
   "id": "ee3b2444-0ade-4387-ae7a-97d86d803ec9",
   "metadata": {},
   "outputs": [],
   "source": [
    "W2_Q3()"
   ]
  },
  {
   "cell_type": "code",
   "execution_count": null,
   "id": "451e2351-93f3-48ba-85a5-d4da1023b2ea",
   "metadata": {},
   "outputs": [],
   "source": [
    "# You can use this cell to answer the question\n",
    "\n",
    "def waveNumber_Fenton(T, d):  # made by J.A.ArriagaGarcia (Jaime)\n",
    "    g = 9.81\n",
    "    omega = 2 * np.pi / T\n",
    "    k0 = omega * omega / g\n",
    "    alpha = k0 * d\n",
    "    beta = alpha * (np.tanh(alpha)) ** -0.5\n",
    "    k = (\n",
    "        (alpha + beta**2 * np.cosh(beta) ** -2)\n",
    "        / (np.tanh(beta) + beta * np.cosh(beta) ** -2)\n",
    "        / d\n",
    "    )\n",
    "    return k\n",
    "\n",
    "k1 = waveNumber_Fenton(T=T1, d=h1)\n",
    "Q1_answer = round(k1, 1)\n",
    "Q2_answer = round(2 * np.pi / k1, 1)\n",
    "\n",
    "print('answer a:', Q1_answer, 'm')\n",
    "print('answer b:', Q2_answer, 'm')"
   ]
  },
  {
   "cell_type": "markdown",
   "id": "6ed154de-80a9-4b69-ab37-07aa09da42ee",
   "metadata": {},
   "source": [
    "## 2.1) The dispersion relation"
   ]
  },
  {
   "cell_type": "markdown",
   "id": "1396d7b3-fe65-4105-a1cc-03db7ff11489",
   "metadata": {},
   "source": [
    "Various wave characteristics can be computed given the water depth and wave period or wavelength. Can you calculate the wave characteristics asked in the questions below? "
   ]
  },
  {
   "cell_type": "code",
   "execution_count": null,
   "id": "426fe0d5-f7a5-4c7d-a5e7-8755c23a56f1",
   "metadata": {},
   "outputs": [],
   "source": [
    "W2_Q4()"
   ]
  },
  {
   "cell_type": "code",
   "execution_count": null,
   "id": "d15a07ab-14be-4228-85c4-36d4f5c850ed",
   "metadata": {},
   "outputs": [],
   "source": [
    "# You can use this cell to answer the question\n",
    "\n",
    "\n",
    "def dispersion(k, h):  # calculate omega\n",
    "    return (9.81 * k * np.tanh(k * h)) ** 0.5\n",
    "\n",
    "# An iterative function can also be used, this one is faster, with a 0.5% error margin.\n",
    "def wave_length(T, h):\n",
    "    d = h\n",
    "\n",
    "    # based on waveNumber_Fenton(T,d) from Jaime in computerlab\n",
    "    g=9.81\n",
    "    omega = 2*np.pi/T\n",
    "    k0 = omega*omega/g\n",
    "    alpha = k0*d\n",
    "    beta = alpha * (np.tanh(alpha))**-0.5 \n",
    "    k = (alpha + beta**2 * np.cosh(beta)**-2) / (np.tanh(beta)+ beta*np.cosh(beta)**-2) / d\n",
    "\n",
    "    L = 2*np.pi/k\n",
    "            \n",
    "    return L\n",
    "\n",
    "# The order of questions and values of parameters are randomized   \n",
    "h =2  # m\n",
    "L = 25  # m\n",
    "\n",
    "k = 2 * np.pi / L\n",
    "omega = dispersion(k, h)\n",
    "\n",
    "print(\"What is the wave period (T) for a wave with a length (L) of ...\")\n",
    "Q1_answer = T = round(2 * np.pi / omega, 1)\n",
    "print(Q1_answer, 'm')\n",
    "\n",
    "print( \"What is the wave celerity (c) for waves with a length (L) of ..\")\n",
    "k = 2 * np.pi / L\n",
    "omega = dispersion(k, h)\n",
    "T = 2 * np.pi / omega\n",
    "Q2_answer = c = round(L / T, 1)\n",
    "print(Q2_answer, 'm/s')\n",
    "\n",
    "# different conditions\n",
    "print(\"What is the wave celerity (c) for waves with a length (L) of ...\") \n",
    "Q3_answer = c = round(L / T, 1)\n",
    "print(Q3_answer, \"m/s\")\n",
    "\n",
    "print(\"What is the wavelength (L) for a wave with a period (T) of ... \")\n",
    "L = wave_length(T, h)\n",
    "Q4_answer = round(L, 1)\n",
    "print(Q4_answer, 'm')\n",
    "\n",
    "print(\"What is the propagation speed (c) of a tsunami wave train with (L) of 500 km in the deep ocean with a depth (h) of ... \")\n",
    "k = 2 * np.pi / L\n",
    "omega = dispersion(k, h * 1000)  # m to km\n",
    "T = 2 * np.pi / omega\n",
    "Q5_answer = c = round(L / T / 1000 * 3600, 1)\n",
    "print(Q5_answer, 'km/h')\n",
    "\n",
    "print(\"What is the propagation speed of a tsunami wave train with a period (T) of ...\")\n",
    "L = wave_length(T * 60, h)\n",
    "Q6_answer = round(L / T / 1000 * 60, 1)\n",
    "print(Q6_answer, 'km/h')\n",
    "\n",
    "print(\"What is the value of n when the water depth (h) is ...\")\n",
    "k = 2 * np.pi / L\n",
    "n = 0.5 + k * h / np.sinh(2 * k * h)\n",
    "Q7_answer = round(n,1)\n",
    "print(Q7_answer)\n",
    "\n",
    "print(\"What is the group velocity (cg) when the water depth (h) is ...\")\n",
    "L = wave_length(T, h)\n",
    "k = 2 * np.pi / L\n",
    "c = L / T\n",
    "n = 0.5 + k * h / np.sinh(2 * k * h)\n",
    "cg = n * c\n",
    "Q8_answer = round(cg, 1)\n",
    "print(Q8_answer, 'm/s')\n",
    "\n",
    "print( \"At which speed does the wave energy propagate when the water depth (h) is ...\")\n",
    "L = round(wave_length(T, h), 1)\n",
    "omega = dispersion(k, h)\n",
    "T = 2 * np.pi / omega\n",
    "k = 2 * np.pi / L\n",
    "c = L / T\n",
    "n = 0.5 + k * h / np.sinh(2 * k * h)\n",
    "cg = n * c\n",
    "Q9_answer = round(cg, 1)\n",
    "print(Q9_answer, 'm/s')"
   ]
  },
  {
   "cell_type": "markdown",
   "id": "7f22d79a-8d43-4896-b945-60308b37e733",
   "metadata": {},
   "source": [
    "## 2.2) Shallow, intermediate, and deep water"
   ]
  },
  {
   "cell_type": "markdown",
   "id": "d087bc0d-2be5-4acb-9eb2-e2a3472a1053",
   "metadata": {},
   "source": [
    "The wave experiences deep, intermediate, or shallow water conditions. Can you asses which conditions the wave experiences? You can use the cell below for your computations."
   ]
  },
  {
   "cell_type": "code",
   "execution_count": null,
   "id": "ce0a360e-4558-4ebc-8b1b-f161cdd66608",
   "metadata": {},
   "outputs": [],
   "source": [
    "W2_Q5()"
   ]
  },
  {
   "cell_type": "code",
   "execution_count": null,
   "id": "fca378b7-7841-42a9-8f3f-83becd1a473c",
   "metadata": {},
   "outputs": [],
   "source": [
    "# You can use this cell for answering the question\n",
    "\n",
    "h = 1\n",
    "L = 1\n",
    "ratio = h/L\n",
    "print(ratio)\n",
    "print('Smaller ratio, shallower water. with ratio < 0.05 = shallow, ratio > 0.5 = deep')"
   ]
  },
  {
   "cell_type": "code",
   "execution_count": null,
   "id": "3e6dca3d-a37a-467b-b2d4-ded8bbc7a852",
   "metadata": {},
   "outputs": [],
   "source": []
  },
  {
   "cell_type": "code",
   "execution_count": null,
   "id": "7c81e4bb-022e-4679-8a26-3dc585226a3b",
   "metadata": {},
   "outputs": [],
   "source": []
  },
  {
   "cell_type": "code",
   "execution_count": null,
   "id": "9fd85794-6a5e-40e3-b51f-c08d826efaae",
   "metadata": {},
   "outputs": [],
   "source": []
  }
 ],
 "metadata": {
  "kernelspec": {
   "display_name": "Python 3 (ipykernel)",
   "language": "python",
   "name": "python3"
  },
  "language_info": {
   "codemirror_mode": {
    "name": "ipython",
    "version": 3
   },
   "file_extension": ".py",
   "mimetype": "text/x-python",
   "name": "python",
   "nbconvert_exporter": "python",
   "pygments_lexer": "ipython3",
   "version": "3.11.6"
  }
 },
 "nbformat": 4,
 "nbformat_minor": 5
}
